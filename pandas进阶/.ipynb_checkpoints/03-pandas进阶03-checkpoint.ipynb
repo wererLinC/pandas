{
 "cells": [
  {
   "cell_type": "code",
   "execution_count": 1,
   "metadata": {},
   "outputs": [],
   "source": [
    "import pandas as pd\n",
    "from pandas import Series, DataFrame\n",
    "import numpy as np"
   ]
  },
  {
   "cell_type": "markdown",
   "metadata": {},
   "source": [
    "### 将数据写成csv格式"
   ]
  },
  {
   "cell_type": "code",
   "execution_count": 2,
   "metadata": {},
   "outputs": [],
   "source": [
    "pf = pd.read_csv('./data/ex1.csv', header=None)"
   ]
  },
  {
   "cell_type": "code",
   "execution_count": 4,
   "metadata": {},
   "outputs": [],
   "source": [
    "pf.to_csv('./data/ex2.txt')"
   ]
  },
  {
   "cell_type": "code",
   "execution_count": 5,
   "metadata": {},
   "outputs": [
    {
     "name": "stdout",
     "output_type": "stream",
     "text": [
      "|0|1|2|3|4\n",
      "0|a| b| c| d| message\n",
      "1|1| 2| 3| 4| hello\n",
      "2|5| 6| 7| 8| world\n",
      "3|# lala ||||\n"
     ]
    }
   ],
   "source": [
    "import sys\n",
    "pf.to_csv(sys.stdout, sep='|') # 这个是输出流,我居然差点忘记了，我的天才们呀，真的是可惜呀"
   ]
  },
  {
   "cell_type": "code",
   "execution_count": 6,
   "metadata": {},
   "outputs": [
    {
     "name": "stdout",
     "output_type": "stream",
     "text": [
      ",0,1,2,3,4\n",
      "0,a, b, c, d, message\n",
      "1,1, 2, 3, 4, hello\n",
      "2,5, 6, 7, 8, world\n",
      "3,# lala ,,,,\n"
     ]
    }
   ],
   "source": [
    "pf.to_csv(sys.stdout)"
   ]
  },
  {
   "cell_type": "code",
   "execution_count": 7,
   "metadata": {},
   "outputs": [
    {
     "name": "stdout",
     "output_type": "stream",
     "text": [
      "0,a, b, c, d, message\n",
      "1,1, 2, 3, 4, hello\n",
      "2,5, 6, 7, 8, world\n",
      "3,# lala ,,,,\n"
     ]
    }
   ],
   "source": [
    "pf.to_csv(sys.stdout, header=None)"
   ]
  },
  {
   "cell_type": "code",
   "execution_count": 8,
   "metadata": {},
   "outputs": [
    {
     "name": "stdout",
     "output_type": "stream",
     "text": [
      "0, c\n",
      "1, 3\n",
      "2, 7\n",
      "3,\n"
     ]
    }
   ],
   "source": [
    "pf.to_csv(sys.stdout, header=None, columns=[2])"
   ]
  }
 ],
 "metadata": {
  "kernelspec": {
   "display_name": "Python 3",
   "language": "python",
   "name": "python3"
  },
  "language_info": {
   "codemirror_mode": {
    "name": "ipython",
    "version": 3
   },
   "file_extension": ".py",
   "mimetype": "text/x-python",
   "name": "python",
   "nbconvert_exporter": "python",
   "pygments_lexer": "ipython3",
   "version": "3.7.1"
  }
 },
 "nbformat": 4,
 "nbformat_minor": 2
}
